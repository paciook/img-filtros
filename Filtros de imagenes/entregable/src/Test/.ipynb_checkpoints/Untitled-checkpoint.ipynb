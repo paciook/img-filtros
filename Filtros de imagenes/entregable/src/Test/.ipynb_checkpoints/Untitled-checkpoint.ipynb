{
 "cells": [
  {
   "cell_type": "markdown",
   "metadata": {},
   "source": [
    "# Experimentación con filtros de imagenes."
   ]
  },
  {
   "cell_type": "markdown",
   "metadata": {},
   "source": [
    "Para analizar el uso de threads en los filtros de imágenes podemos contemplar varios factores: Cantidad de threads, tipo de filtro, tamaño de imagen y hardware usado. Cada factor, inicialmente, se va a contemplar de forma aislada para poder tener una visión separada de cada parámetro y poder encontrar la forma óptima de usar los filtros. A su vez, más adelante se van a mezclar algunos parámetros para poder seguir sacando conclusiones."
   ]
  },
  {
   "cell_type": "markdown",
   "metadata": {},
   "source": [
    "## Tamaño de imagen"
   ]
  },
  {
   "cell_type": "markdown",
   "metadata": {},
   "source": [
    "Mi hipótesis inicial es que, claramente mientras mas grande sea la imagen más tiempo va a tardar en aplicar el filtro seleccionado. Pero igualmente voy a comprobarlo. Tengo preparadas 10 imagenes desde 100x100 pixeles hasta 1000x1000 pixeles avanzando de 100 en 100. Para tener mayor exactitud voy a probarlo 50 veces con cada imagen"
   ]
  },
  {
   "cell_type": "code",
   "execution_count": null,
   "metadata": {},
   "outputs": [],
   "source": []
  }
 ],
 "metadata": {
  "kernelspec": {
   "display_name": "Python 3",
   "language": "python",
   "name": "python3"
  },
  "language_info": {
   "codemirror_mode": {
    "name": "ipython",
    "version": 3
   },
   "file_extension": ".py",
   "mimetype": "text/x-python",
   "name": "python",
   "nbconvert_exporter": "python",
   "pygments_lexer": "ipython3",
   "version": "3.8.3"
  }
 },
 "nbformat": 4,
 "nbformat_minor": 4
}
