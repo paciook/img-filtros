{
 "cells": [
  {
   "cell_type": "markdown",
   "metadata": {},
   "source": [
    "# Experimentación con filtros de imagenes.\n",
    "Para analizar el uso de threads en los filtros de imágenes podemos contemplar varios factores: **Cantidad de threads**, **tipo de filtro**, **tamaño de imagen** y **hardware usado**. Cada factor, inicialmente, se va a contemplar de forma aislada para poder tener una visión separada de cada parámetro y poder encontrar la forma óptima de usar los filtros. A su vez, más adelante se van a mezclar algunos parámetros para poder seguir sacando conclusiones.\n",
    "## Tamaño de imagen\n",
    "Mi hipótesis inicial es que, claramente mientras mas grande sea la imagen más tiempo va a tardar en aplicar el filtro seleccionado. Pero igualmente voy a comprobarlo. Tengo preparadas 10 imagenes desde 100x100 pixeles hasta 1000x1000 pixeles avanzando de 100 en 100. Para tener mayor exactitud voy a probarlo 50 veces con cada imagen\n"
   ]
  },
  {
   "cell_type": "code",
   "execution_count": 6,
   "metadata": {},
   "outputs": [],
   "source": [
    "# preparaciones iniciales\n",
    "import os\n",
    "import pandas\n",
    "import matplotlib.pyplot as plt\n",
    "import numpy as np\n",
    "! echo \"\" > ../out/info.csv\n",
    "\n",
    "def plot(ths, time, std, title, xlabel, ylabel):\n",
    "\n",
    "    fig, ax = plt.subplots()\n",
    "    ax.plot(ths, time, 'b-', color = 'blue')\n",
    "    if np.any(std) != 0:\n",
    "        ax.fill_between(ths, time - std, time + std, color = 'turquoise')\n",
    "\n",
    "\n",
    "    ax.set(xlabel = xlabel, ylabel = ylabel, title=title)\n",
    "    ax.grid()\n",
    "    fig.savefig(\"test.png\")\n",
    "    plt.show()"
   ]
  },
  {
   "cell_type": "code",
   "execution_count": 7,
   "metadata": {},
   "outputs": [
    {
     "ename": "KeyboardInterrupt",
     "evalue": "",
     "output_type": "error",
     "traceback": [
      "\u001b[1;31m---------------------------------------------------------------------------\u001b[0m",
      "\u001b[1;31mKeyboardInterrupt\u001b[0m                         Traceback (most recent call last)",
      "\u001b[1;32m<ipython-input-7-fa109c8f2d99>\u001b[0m in \u001b[0;36m<module>\u001b[1;34m\u001b[0m\n\u001b[0;32m      4\u001b[0m         \u001b[0mw\u001b[0m \u001b[1;33m=\u001b[0m \u001b[0mi\u001b[0m \u001b[1;33m*\u001b[0m \u001b[1;36m100\u001b[0m\u001b[1;33m\u001b[0m\u001b[1;33m\u001b[0m\u001b[0m\n\u001b[0;32m      5\u001b[0m         \u001b[0mf\u001b[0m \u001b[1;33m=\u001b[0m \u001b[1;34mf\"../out/{w}.ppm\"\u001b[0m\u001b[1;33m\u001b[0m\u001b[1;33m\u001b[0m\u001b[0m\n\u001b[1;32m----> 6\u001b[1;33m         \u001b[0mos\u001b[0m\u001b[1;33m.\u001b[0m\u001b[0msystem\u001b[0m\u001b[1;33m(\u001b[0m\u001b[1;34mf\"bash ../main bw 1 {f}\"\u001b[0m\u001b[1;33m)\u001b[0m\u001b[1;33m\u001b[0m\u001b[1;33m\u001b[0m\u001b[0m\n\u001b[0m",
      "\u001b[1;31mKeyboardInterrupt\u001b[0m: "
     ]
    }
   ],
   "source": [
    "# ejecuto los tests\n",
    "for i in range(1, 11):\n",
    "    for _ in range(50):\n",
    "        w = i * 100\n",
    "        f = f\"../out/{w}.ppm\"\n",
    "        os.system(f\"../main bw 1 {f}\")"
   ]
  },
  {
   "cell_type": "code",
   "execution_count": null,
   "metadata": {},
   "outputs": [],
   "source": [
    "# levanto los datos\n",
    "dataframe = pandas.read_csv(\"../out/info.csv\", names=[\"Threads\", \"Time\", \"Tamaño imagen\"])\n",
    "dataframe"
   ]
  },
  {
   "cell_type": "code",
   "execution_count": null,
   "metadata": {},
   "outputs": [],
   "source": [
    "plot(np.array(range(1, 1000, 100)),\n",
    "     dataframe.groupby(\"Tamaño imagen\")[\"Time\"].mean(),\n",
    "     dataframe.groupby(\"Tamaño imagen\")[\"Time\"].std(),\n",
    "     \"Performance del filtro del brillo segun el tamaño\",\n",
    "     \"Tamaño imagen(width and height)\",\n",
    "     \"Tiempo (s)\")"
   ]
  },
  {
   "cell_type": "markdown",
   "metadata": {},
   "source": [
    "Claramente mientras mas grande sea la imagen, más tiempo va a costar procesarla.\n",
    "## Cantidad de threads\n",
    "Ahora voy a comprobar como cambia el tiempo de procesamiento si agregamos cada vez más threads, la primera hipótesis que se me ocurre es que mientras más threads, más performance, pero también es verdad que hay que contemplar que el thread tarda un tiempo en crearse, además del \"precio\" que hay que pagar del context switch. Igualmente, voy a correr los tests para estar seguros."
   ]
  },
  {
   "cell_type": "code",
   "execution_count": null,
   "metadata": {},
   "outputs": [],
   "source": [
    "# ejecuto los tests\n",
    "! echo \"\" > ../out/info.csv\n",
    "for i in range(1, 21):\n",
    "    for _ in range(20):\n",
    "        f = f\"../img/800.ppm\"\n",
    "        os.system(f\"../out/a.out br {i} {f} .5\")"
   ]
  },
  {
   "cell_type": "code",
   "execution_count": null,
   "metadata": {},
   "outputs": [],
   "source": [
    "# levanto los datos\n",
    "dataframe = pandas.read_csv(\"../out/info.csv\", names=[\"Threads\", \"Time\", \"Tamaño imagen\"])\n",
    "dataframe"
   ]
  },
  {
   "cell_type": "code",
   "execution_count": null,
   "metadata": {},
   "outputs": [],
   "source": [
    "plot(np.array(range(1, 21)),\n",
    "     dataframe.groupby(\"Threads\")[\"Time\"].mean(),\n",
    "     dataframe.groupby(\"Threads\")[\"Time\"].std(),\n",
    "     \"Performance del filtro brillo según la cantidad de threads usados.\",\n",
    "     \"Threads (u)\",\n",
    "     \"Tiempo (s)\")"
   ]
  },
  {
   "cell_type": "code",
   "execution_count": null,
   "metadata": {},
   "outputs": [],
   "source": []
  }
 ],
 "metadata": {
  "kernelspec": {
   "display_name": "Python 3",
   "language": "python",
   "name": "python3"
  },
  "language_info": {
   "codemirror_mode": {
    "name": "ipython",
    "version": 3
   },
   "file_extension": ".py",
   "mimetype": "text/x-python",
   "name": "python",
   "nbconvert_exporter": "python",
   "pygments_lexer": "ipython3",
   "version": "3.8.3"
  }
 },
 "nbformat": 4,
 "nbformat_minor": 4
}
